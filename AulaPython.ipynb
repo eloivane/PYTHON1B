{
  "nbformat": 4,
  "nbformat_minor": 0,
  "metadata": {
    "colab": {
      "provenance": [],
      "authorship_tag": "ABX9TyMr3aXKlCNikYp5c1w1ZzDr",
      "include_colab_link": true
    },
    "kernelspec": {
      "name": "python3",
      "display_name": "Python 3"
    },
    "language_info": {
      "name": "python"
    }
  },
  "cells": [
    {
      "cell_type": "markdown",
      "metadata": {
        "id": "view-in-github",
        "colab_type": "text"
      },
      "source": [
        "<a href=\"https://colab.research.google.com/github/eloivane/PYTHON1B/blob/main/AulaPython.ipynb\" target=\"_parent\"><img src=\"https://colab.research.google.com/assets/colab-badge.svg\" alt=\"Open In Colab\"/></a>"
      ]
    },
    {
      "cell_type": "code",
      "execution_count": null,
      "metadata": {
        "id": "xDYuZ6-uhdrz"
      },
      "outputs": [],
      "source": []
    },
    {
      "cell_type": "markdown",
      "source": [
        "#**aula 1**💚🤍🇮🇹"
      ],
      "metadata": {
        "id": "o_BdecH4h3Xs"
      }
    },
    {
      "cell_type": "code",
      "source": [
        "print(\"I cometição de programação da start\")\n",
        "ano = \"IX\"\n",
        "print(f\"{ano} competição de programação da start\")"
      ],
      "metadata": {
        "colab": {
          "base_uri": "https://localhost:8080/"
        },
        "id": "beuTzHtaiov3",
        "outputId": "7bd7b0f3-025e-4c81-a198-f5c66edcba79"
      },
      "execution_count": 1,
      "outputs": [
        {
          "output_type": "stream",
          "name": "stdout",
          "text": [
            "I cometição de programação da start\n",
            "IX competição de programação da start\n"
          ]
        }
      ]
    }
  ]
}